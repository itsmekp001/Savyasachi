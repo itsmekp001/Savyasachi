{
 "cells": [
  {
   "cell_type": "code",
   "execution_count": null,
   "metadata": {},
   "outputs": [],
   "source": [
    "! pip install gpt_index"
   ]
  },
  {
   "cell_type": "code",
   "execution_count": null,
   "metadata": {},
   "outputs": [],
   "source": [
    "! pip install langchain"
   ]
  },
  {
   "cell_type": "code",
   "execution_count": 1,
   "metadata": {},
   "outputs": [
    {
     "name": "stderr",
     "output_type": "stream",
     "text": [
      "C:\\Users\\SITHARA\\AppData\\Local\\Packages\\PythonSoftwareFoundation.Python.3.10_qbz5n2kfra8p0\\LocalCache\\local-packages\\Python310\\site-packages\\tqdm\\auto.py:21: TqdmWarning: IProgress not found. Please update jupyter and ipywidgets. See https://ipywidgets.readthedocs.io/en/stable/user_install.html\n",
      "  from .autonotebook import tqdm as notebook_tqdm\n"
     ]
    }
   ],
   "source": [
    "from llama_index import SimpleDirectoryReader,GPTListIndex,GPTVectorStoreIndex,LLMPredictor,PromptHelper\n",
    "from langchain import OpenAI\n",
    "import sys\n",
    "import os"
   ]
  },
  {
   "cell_type": "code",
   "execution_count": 2,
   "metadata": {},
   "outputs": [],
   "source": [
    "os.environ[\"OPENAI_API_KEY\"] = \"#####################################3\""
   ]
  },
  {
   "cell_type": "code",
   "execution_count": 4,
   "metadata": {},
   "outputs": [],
   "source": [
    "from llama_index import ServiceContext,StorageContext,load_index_from_storage\n",
    "\n",
    "def create_index(path):\n",
    "    print(path)\n",
    "    max_input = 4096\n",
    "    token = 256\n",
    "    chunk_size = 600\n",
    "    max_chunk_overlap = 20\n",
    "\n",
    "    promptHelper = PromptHelper(max_input,token,max_chunk_overlap,chunk_size_limit = chunk_size)\n",
    "\n",
    "    # #define LLM\n",
    "    llmpredictor = LLMPredictor(llm=OpenAI(temperature=0, model_name=\"text-ada-001\", max_tokens=token))\n",
    "\n",
    "    #load data\n",
    "    docs = SimpleDirectoryReader(path).load_data()\n",
    "    print(docs)\n",
    "\n",
    "    #Create vector index \n",
    "    serviceContext = ServiceContext.from_defaults(llm_predictor = llmpredictor,prompt_helper= promptHelper)\n",
    "\n",
    "    vectorIndex = GPTVectorStoreIndex.from_documents(documents= docs,service_context= serviceContext)\n",
    "    vectorIndex.storage_context.persist(persist_dir='json_data')\n",
    "    return vectorIndex\n",
    "    "
   ]
  },
  {
   "cell_type": "code",
   "execution_count": 5,
   "metadata": {},
   "outputs": [
    {
     "name": "stdout",
     "output_type": "stream",
     "text": [
      "data_files\n",
      "[Document(text='How to connect Iot bridge with WeatherStation/DHT11?\\n\"Connect power connector(red and black connector) to any of the power pin(PC1 to PC11)except PC12\\nand  data connection is C01 of DHT11 will connect to the C010 of  IoT bridge\"\\n\\nHow to connect Iot bridge with Soil moisture?\\n\"Connect power connector(red and black connector) to any of the power pin(PC1 to PC11)except PC12\\nand  data connection is C01 of Soil moisture will connect to the C07 of the IoT bridge\"\\n\\nHow to connect Iot bridge with LDR Proximity?\\n\"Connect power connector(red and black connector) to any of the power pin(PC1 to PC11)except PC12\\nand  data connection is LDR1 And LDR2 of LDR will connect to the C07of the IoT bridge, LDR_LED_PIN of LDR will connect to the C06 of the IoT bridge\"\\n\\nHow to connect Iot bridge with Motors?\\n\"Connect power connector(red and black connector) to any of the power pin(PC1 to PC11)except PC12\\nand  data connections are MOTOR DRIVER C01 will connect to the C05 of the IoT bridge, C02 will connect to the C06 of the IoT bridge,C03 will connect to the C04 of the IoT bridge\"\\n\\nHow to connect Iot bridge with OLED Display?\\n\"Connect power connector(red and black connector) to any of the power pin(PC1 to PC11)except PC12\\nand  data connection is C01 of OLED display will connect to the C01 of the IoT bridge\"\\n\\nHow to connect Iot bridge with Gas sensor?\\n\"Connect power connector(red and black connector) to any of the power pin(PC1 to PC11)except PC12\\nand  data connection is C01 of gas sensor  will connect to the C07 of the IoT bridge\"\\n\\nHow to connect Iot bridge with Reed Switch?\\n\"Connect power connector(red and black connector) to any of the power pin(PC1 to PC11)except PC12\\nand  data connection is C01 of reed switch will connect to the C09 of the IoT bridge\"\\n\\nHow to connect Iot bridge with Accelerometer V2?\\n\"Connect power connector(red and black connector) to any of the power pin(PC1 to PC11)except PC12\\nand  data connection is C01 of the accelerometer will connect to the C010 of the IoT bridge\"\\n\\nHow to connect Iot bridge with Wheel encoder?\\n\"Connect power connector(red and black connector) to any of the power pin(PC1 to PC11)except PC12\\nand  data connection is C01 of the Wheel encoder will connect to the C012 of the IoT bridge\"\\n\\nHow to connect Iot bridge with IR remote sensor?\\n\"Connect power connector(red and black connector) to any of the power pin(PC1 to PC11)except PC12\\nand  data connection is C01 of the IR remote sensor will connect to the C01 of the IoT bridge\"\\n\\nHow to connect Iot bridge with Smart switch?\\n\"Connect power connector to  the power pin PC12\\nand  data connection is C01 the of  smart switch will connect to the  C012 of the IoT bridge\"\\n\\nHow to connect Iot bridge with Dip switch?\\n\"Connect power connector(red and black connector) to any of the power pin(PC1 to PC11)except PC12\\nand  data connection is DIP C01  of  Dip switch will connect to the C10  of the IoT bridge, DIP C02 of  Dip switch will connect to the  C09  of the IoT bridge\"\\n\\nHow to connect Iot bridge with MP3 player?\\n\"Connect power connector(red and black connector) to any of the power pin(PC1 to PC11)except PC12\\nand  data connection is MP3 player C01 will conneted to the C03 of IoT bridge\"\\n\\nHow to connect Iot bridge with Accelerometer V1?\\n\"Connect power connector(red and black connector) to any of the power pin(PC1 to PC11)except PC12\\nand  data connection is C01 of  Accelerometer will connect to the C07 of the IoT bridge,C02 of  Accelerometer will connect to the C010 of the IoT bridge\"', doc_id='ec84986f-4500-4b2e-bdf8-3f5ff830736f', embedding=None, doc_hash='686eb97fd38cfa51c9347ca131a8e23b14bfef1420129d36ca215ca224da7282', extra_info=None)]\n"
     ]
    }
   ],
   "source": [
    "vectorIndex = create_index('data_files')"
   ]
  },
  {
   "cell_type": "code",
   "execution_count": 6,
   "metadata": {},
   "outputs": [],
   "source": [
    "\n",
    "def answerMe(questions):\n",
    "    storageContext = StorageContext.from_defaults(persist_dir='json_data')\n",
    "    index = load_index_from_storage(storageContext)\n",
    "    quer_engine = index.as_query_engine()\n",
    "    response = quer_engine.query(questions)\n",
    "    return response\n"
   ]
  },
  {
   "cell_type": "code",
   "execution_count": 7,
   "metadata": {},
   "outputs": [],
   "source": [
    "response = answerMe('please tell me how to connect motor')"
   ]
  },
  {
   "cell_type": "code",
   "execution_count": 8,
   "metadata": {},
   "outputs": [
    {
     "data": {
      "text/plain": [
       "'\\n\"Connect power connector(red and black connector) to any of the power pin(PC1 to PC11)except PC12\\nand  data connections are MOTOR DRIVER C01 will connect to the C05 of the IoT bridge, C02 will connect to the C06 of the IoT bridge,C03 will connect to the C04 of the IoT bridge\"'"
      ]
     },
     "execution_count": 8,
     "metadata": {},
     "output_type": "execute_result"
    }
   ],
   "source": [
    "response.response"
   ]
  }
 ],
 "metadata": {
  "kernelspec": {
   "display_name": "Python 3 (ipykernel)",
   "language": "python",
   "name": "python3"
  },
  "language_info": {
   "codemirror_mode": {
    "name": "ipython",
    "version": 3
   },
   "file_extension": ".py",
   "mimetype": "text/x-python",
   "name": "python",
   "nbconvert_exporter": "python",
   "pygments_lexer": "ipython3",
   "version": "3.10.11"
  }
 },
 "nbformat": 4,
 "nbformat_minor": 2
}
